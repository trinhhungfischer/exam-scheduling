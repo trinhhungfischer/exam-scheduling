{
  "nbformat": 4,
  "nbformat_minor": 0,
  "metadata": {
    "colab": {
      "provenance": []
    },
    "kernelspec": {
      "name": "python3",
      "display_name": "Python 3"
    },
    "language_info": {
      "name": "python"
    },
    "accelerator": "GPU",
    "gpuClass": "standard"
  },
  "cells": [
    {
      "cell_type": "code",
      "execution_count": 235,
      "metadata": {
        "colab": {
          "base_uri": "https://localhost:8080/"
        },
        "id": "Me-MaYAgpBjQ",
        "outputId": "971391ff-3ee8-45c8-ad45-bf65b225d3c8"
      },
      "outputs": [
        {
          "output_type": "stream",
          "name": "stdout",
          "text": [
            "Drive already mounted at /content/drive; to attempt to forcibly remount, call drive.mount(\"/content/drive\", force_remount=True).\n"
          ]
        }
      ],
      "source": [
        "\n",
        "from google.colab import drive\n",
        "drive.mount('/content/drive')"
      ]
    },
    {
      "cell_type": "code",
      "source": [
        "\n",
        "import os\n",
        "import numpy as np\n",
        "DIR = '/content/drive/MyDrive/exam-scheduling/data'\n",
        "%cd '/content/drive/MyDrive/exam-scheduling/data'"
      ],
      "metadata": {
        "id": "FxznfqHApOz0",
        "colab": {
          "base_uri": "https://localhost:8080/"
        },
        "outputId": "90fe351b-5976-422d-e68e-8738e36cd4d2"
      },
      "execution_count": 236,
      "outputs": [
        {
          "output_type": "stream",
          "name": "stdout",
          "text": [
            "/content/drive/MyDrive/exam-scheduling/data\n"
          ]
        }
      ]
    },
    {
      "cell_type": "code",
      "source": [
        "def read_data(data_file_name):\n",
        "  with open(data_file_name, \"r\") as f:\n",
        "    r = f.readlines()\n",
        "    number_subject = int(r[0])\n",
        "    student_per_subject = [int(u) for u in r[1][:-1].split(\" \")]\n",
        "    number_room = int(r[2])\n",
        "    place_per_room = [int(u) for u in r[3][:-1].split(\" \")]\n",
        "    number_constrain = int(r[4])\n",
        "\n",
        "    # student_per_subject.sort(reverse=True)\n",
        "    student_per_subject = np.asarray(student_per_subject)\n",
        "    # place_per_room.sort(reverse=True)\n",
        "    place_per_room = np.asarray(place_per_room)\n",
        "\n",
        "    if(r[-1][-1] != '\\n'):\n",
        "      r[-1] += \"\\n\"\n",
        "\n",
        "    constrain = []\n",
        "    for i in range(number_constrain):\n",
        "      each_constrain = [int(u) for u in r[5+i][:-1].split(\" \")]\n",
        "      constrain.append(each_constrain)\n",
        "\n",
        "    matrix_constrain = np.zeros((number_subject, number_subject))\n",
        "    for iter in constrain:\n",
        "      i = iter[0]\n",
        "      j = iter[1]\n",
        "      matrix_constrain[i][j] = 1\n",
        "      matrix_constrain[j][i] = 1\n",
        "        \n",
        "    return number_subject, student_per_subject, number_room, place_per_room, number_constrain, constrain, matrix_constrain\n",
        "\n",
        "# TEST\n",
        "N, d , M, c, number_constrain, constrain, matrix_constrain = read_data(f'{DIR}/data_10_2_(0).txt')"
      ],
      "metadata": {
        "id": "rbL66y4qpO2L"
      },
      "execution_count": 237,
      "outputs": []
    },
    {
      "cell_type": "code",
      "source": [
        "print(matrix_constrain)"
      ],
      "metadata": {
        "colab": {
          "base_uri": "https://localhost:8080/"
        },
        "id": "njJrojtw_cDd",
        "outputId": "62aa37b8-9463-44d1-8c98-9a598c1ae755"
      },
      "execution_count": 238,
      "outputs": [
        {
          "output_type": "stream",
          "name": "stdout",
          "text": [
            "[[0. 0. 0. 0. 0.]\n",
            " [0. 0. 1. 0. 1.]\n",
            " [0. 1. 0. 0. 1.]\n",
            " [0. 0. 0. 0. 1.]\n",
            " [0. 1. 1. 1. 0.]]\n"
          ]
        }
      ]
    },
    {
      "cell_type": "code",
      "source": [
        "\n",
        "assign=np.full((N),-1)\n",
        "# print(assign[0])\n",
        "room=np.full((N,M),-1)\n",
        "# print(room)\n",
        "# day=[][]\n",
        "day=np.full((N,N),-1)\n",
        "# back=[][]\n",
        "ans=9999\n",
        "cf=[]\n",
        "for i in range(N):\n",
        "  cf_row=[]\n",
        "  for j in range(N):\n",
        "    if matrix_constrain[i][j]>0 :\n",
        "      cf_row.append(j)\n",
        "\n",
        "  cf.append(cf_row)\n",
        "\n",
        "\n"
      ],
      "metadata": {
        "id": "ZmKnzm6e12f2"
      },
      "execution_count": 239,
      "outputs": []
    },
    {
      "cell_type": "code",
      "source": [
        "print(len(cf[0]))"
      ],
      "metadata": {
        "colab": {
          "base_uri": "https://localhost:8080/"
        },
        "id": "fanlv6xo_JDG",
        "outputId": "6d4b4ab9-27e2-4503-fa21-043cacfe0c10"
      },
      "execution_count": 240,
      "outputs": [
        {
          "output_type": "stream",
          "name": "stdout",
          "text": [
            "0\n"
          ]
        }
      ]
    },
    {
      "cell_type": "code",
      "source": [
        "def check( u, kip) :\n",
        "        if assign[u] >= 0 :\n",
        "            return 0\n",
        "\n",
        "        for i in range(len(cf[u])) :\n",
        "            v = cf[u][i]\n",
        "            if (assign[v] == kip) :\n",
        "                return 0\n",
        "    \n",
        "\n",
        "        return 1\n",
        "    "
      ],
      "metadata": {
        "id": "4bCwhct040vf"
      },
      "execution_count": 241,
      "outputs": []
    },
    {
      "cell_type": "code",
      "source": [
        "def checkN( u, ngay) :\n",
        "\n",
        "        for i in range(N) :\n",
        "\n",
        "            if matrix_constrain[u][i] > 0 :\n",
        "                if day[u][i]==ngay or day[i][u]==ngay :\n",
        "                  return 0\n",
        "\n",
        "        return 1\n",
        "    "
      ],
      "metadata": {
        "id": "xKFIpzEOpO9U"
      },
      "execution_count": 242,
      "outputs": []
    },
    {
      "cell_type": "code",
      "source": [
        "flag=0"
      ],
      "metadata": {
        "id": "qNCSwDGGmezo"
      },
      "execution_count": 243,
      "outputs": []
    },
    {
      "cell_type": "code",
      "source": [
        "def dfs(u,  kip) :\n",
        "        global ans\n",
        "        global flag\n",
        "        if (u == N) :\n",
        "            ans = min(9999, kip)\n",
        "\n",
        "            return\n",
        "\n",
        "        if(kip > ans) :\n",
        "\n",
        "            return\n",
        "        \n",
        "        for i in range(M):\n",
        "\n",
        "         if (room[kip][i] == -1):\n",
        "\n",
        "            for j in range(N):\n",
        "\n",
        "              if (check(j,kip) and d[j]<=c[i]  ):\n",
        "                \n",
        "\n",
        "                    assign[j] = kip\n",
        "\n",
        "                    room[kip][i] = j\n",
        "\n",
        "                    dfs(u+1, kip)\n",
        "\n",
        "                    assign[j] = -1\n",
        "\n",
        " \n",
        "                    room[kip][i] = -1\n",
        "                \n",
        "\n",
        "        dfs(u,kip+1)\n",
        "\n",
        "        return\n",
        "    "
      ],
      "metadata": {
        "id": "P-__NDY9pO_k"
      },
      "execution_count": 244,
      "outputs": []
    },
    {
      "cell_type": "code",
      "source": [
        "\n",
        "def solve() :\n",
        "        # long startTime = System.currentTimeMillis()\n",
        "        dfs(0,0)\n",
        "        # long endTime = System.currentTimeMillis()\n",
        "        # System.out.println(\"\\nBacktracking duration = \"+(endTime - startTime)+\" ms\")\n",
        "        if (ans != 9999) :\n",
        "            print(\"Objective value = \" )\n",
        "            print(ans+1)\n",
        "        else  :\n",
        "            print(\"No solution\")\n",
        "        \n",
        "    "
      ],
      "metadata": {
        "id": "3C_zmrswpPBx"
      },
      "execution_count": 245,
      "outputs": []
    },
    {
      "cell_type": "code",
      "source": [
        "import time\n",
        "start_time = time.time()\n",
        "solve()\n",
        "end_time = time.time()\n",
        "\n",
        "#tính thời gian chạy của thuật toán Python\n",
        "elapsed_time = end_time - start_time\n",
        "print (\"elapsed_time:{0}\".format(elapsed_time) + \"[sec]\")\n"
      ],
      "metadata": {
        "id": "hoeFzmeX_kxT",
        "colab": {
          "base_uri": "https://localhost:8080/"
        },
        "outputId": "42ccb00c-ac11-4755-f74b-9ec948318fc1"
      },
      "execution_count": 246,
      "outputs": [
        {
          "output_type": "stream",
          "name": "stdout",
          "text": [
            "Objective value = \n",
            "3\n",
            "elapsed_time:0.06309318542480469[sec]\n"
          ]
        }
      ]
    }
  ]
}
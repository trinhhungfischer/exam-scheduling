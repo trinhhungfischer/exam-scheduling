{
  "nbformat": 4,
  "nbformat_minor": 0,
  "metadata": {
    "colab": {
      "provenance": []
    },
    "kernelspec": {
      "name": "python3",
      "display_name": "Python 3"
    },
    "language_info": {
      "name": "python"
    }
  },
  "cells": [
    {
      "cell_type": "code",
      "execution_count": 2,
      "metadata": {
        "colab": {
          "base_uri": "https://localhost:8080/"
        },
        "id": "ncaRM2uQARh2",
        "outputId": "4f4e4e96-5a5f-4767-ab8d-0eef7b980f48"
      },
      "outputs": [
        {
          "output_type": "stream",
          "name": "stdout",
          "text": [
            "Mounted at /content/drive\n"
          ]
        }
      ],
      "source": [
        "from google.colab import drive\n",
        "drive.mount('/content/drive')"
      ]
    },
    {
      "cell_type": "code",
      "source": [
        "import os\n",
        "DIR = '/content/drive/MyDrive/ToiUuLapLich/data'"
      ],
      "metadata": {
        "id": "wetl9FEhBm-T"
      },
      "execution_count": 8,
      "outputs": []
    },
    {
      "cell_type": "code",
      "source": [
        "%cd '/content/drive/MyDrive/ToiUuLapLich/data'\n",
        "os.listdir()"
      ],
      "metadata": {
        "id": "3dwbTuvpBYmo"
      },
      "execution_count": null,
      "outputs": []
    },
    {
      "cell_type": "markdown",
      "source": [
        "## Data Preprocessing"
      ],
      "metadata": {
        "id": "QbKpFLF0HR_i"
      }
    },
    {
      "cell_type": "code",
      "source": [
        "with open(\"data_10_2_(0).txt\", \"r\") as f:\n",
        "  r = f.readlines()\n",
        "  number_subject = int(r[0])\n",
        "  student_per_subject = [int(u) for u in r[1][:-1].split(\" \")]\n",
        "  number_room = int(r[2])\n",
        "  place_per_room = [int(u) for u in r[3][:-1].split(\" \")]\n",
        "  number_constrain = int(r[4])\n",
        "\n",
        "  if(r[-1][-1] != '\\n'):\n",
        "     r[-1] += \"\\n\"\n",
        "\n",
        "  constrain = []\n",
        "\n",
        "  for i in range(number_constrain):\n",
        "    each_constrain = [int(u) for u in r[5+i][:-1].split(\" \")]\n",
        "    constrain.append(each_constrain)\n",
        "  print(constrain)\n"
      ],
      "metadata": {
        "colab": {
          "base_uri": "https://localhost:8080/"
        },
        "id": "Q4WkHOfDB3QN",
        "outputId": "a98af6d0-7700-4fb5-cbcc-21cea3b763af"
      },
      "execution_count": 46,
      "outputs": [
        {
          "output_type": "stream",
          "name": "stdout",
          "text": [
            "[[7, 1], [0, 9], [3, 8], [9, 5], [9, 4], [2, 1], [4, 1], [7, 6], [5, 7], [2, 4], [4, 8], [5, 1], [4, 6], [0, 3], [7, 0], [0, 6], [9, 3], [1, 6], [5, 0], [5, 3], [2, 0], [2, 8], [7, 8], [2, 5], [7, 4], [5, 6], [2, 3], [9, 6], [3, 6], [7, 3], [7, 2], [6, 8], [4, 3], [5, 4], [2, 9], [9, 7], [1, 3]]\n"
          ]
        }
      ]
    },
    {
      "cell_type": "code",
      "source": [
        "import numpy as np\n",
        "student_per_subject.sort(reverse=True)\n",
        "student_per_subject = np.asarray(student_per_subject)\n",
        "print(student_per_subject)\n",
        "place_per_room.sort(reverse=True)\n",
        "place_per_room = np.asarray(place_per_room)\n",
        "print(place_per_room)"
      ],
      "metadata": {
        "colab": {
          "base_uri": "https://localhost:8080/"
        },
        "id": "BpsKOcYJH-_0",
        "outputId": "cfb209a6-c07d-4cb5-90d8-eff4bcdf531a"
      },
      "execution_count": 47,
      "outputs": [
        {
          "output_type": "stream",
          "name": "stdout",
          "text": [
            "[38 38 38 35 34 34 29 28 27 22]\n",
            "[48 41]\n"
          ]
        }
      ]
    },
    {
      "cell_type": "code",
      "source": [
        "constrain[0][0]"
      ],
      "metadata": {
        "colab": {
          "base_uri": "https://localhost:8080/"
        },
        "id": "kghE3eclKcuY",
        "outputId": "36031209-db22-4d27-9a91-f8657f0ffe05"
      },
      "execution_count": 54,
      "outputs": [
        {
          "output_type": "execute_result",
          "data": {
            "text/plain": [
              "7"
            ]
          },
          "metadata": {},
          "execution_count": 54
        }
      ]
    },
    {
      "cell_type": "code",
      "source": [
        "matrix_constrain = np.zeros((number_subject, number_subject))\n",
        "for iter in constrain:\n",
        "  i = iter[0]\n",
        "  j = iter[1]\n",
        "  matrix_constrain[i][j] = 1\n",
        "  matrix_constrain[j][i] = 1\n",
        "matrix_constrain"
      ],
      "metadata": {
        "colab": {
          "base_uri": "https://localhost:8080/"
        },
        "id": "06q_cfHlJw99",
        "outputId": "359be83c-bebb-4f7f-a08f-4af1f5fce5dc"
      },
      "execution_count": 59,
      "outputs": [
        {
          "output_type": "execute_result",
          "data": {
            "text/plain": [
              "array([[0., 0., 1., 1., 0., 1., 1., 1., 0., 1.],\n",
              "       [0., 0., 1., 1., 1., 1., 1., 1., 0., 0.],\n",
              "       [1., 1., 0., 1., 1., 1., 0., 1., 1., 1.],\n",
              "       [1., 1., 1., 0., 1., 1., 1., 1., 1., 1.],\n",
              "       [0., 1., 1., 1., 0., 1., 1., 1., 1., 1.],\n",
              "       [1., 1., 1., 1., 1., 0., 1., 1., 0., 1.],\n",
              "       [1., 1., 0., 1., 1., 1., 0., 1., 1., 1.],\n",
              "       [1., 1., 1., 1., 1., 1., 1., 0., 1., 1.],\n",
              "       [0., 0., 1., 1., 1., 0., 1., 1., 0., 0.],\n",
              "       [1., 0., 1., 1., 1., 1., 1., 1., 0., 0.]])"
            ]
          },
          "metadata": {},
          "execution_count": 59
        }
      ]
    },
    {
      "cell_type": "code",
      "source": [
        "print(matrix_constrain[2])\n"
      ],
      "metadata": {
        "colab": {
          "base_uri": "https://localhost:8080/"
        },
        "id": "1Lylf7wCPwmq",
        "outputId": "8ec01b27-55f6-4270-e073-48447c6a0535"
      },
      "execution_count": 65,
      "outputs": [
        {
          "output_type": "stream",
          "name": "stdout",
          "text": [
            "[1. 1. 0. 1. 1. 1. 0. 1. 1. 1.]\n"
          ]
        },
        {
          "output_type": "execute_result",
          "data": {
            "text/plain": [
              "array([0, 1, 3, 4, 5, 7, 8, 9])"
            ]
          },
          "metadata": {},
          "execution_count": 65
        }
      ]
    },
    {
      "cell_type": "code",
      "source": [
        "con = np.empty((0,), dtype=int)\n",
        "sign1 = np.where(matrix_constrain[2] == 1)[0]\n",
        "con = np.append(con, sign1)\n",
        "sign2 = np.where(matrix_constrain[5] == 1)[0]\n",
        "con = np.append(con, sign2)\n",
        "con = np.unique(con)\n",
        "con"
      ],
      "metadata": {
        "colab": {
          "base_uri": "https://localhost:8080/"
        },
        "id": "f2G9491GQdHc",
        "outputId": "b2c984c0-d57c-46c2-83e3-de4db17fb647"
      },
      "execution_count": 73,
      "outputs": [
        {
          "output_type": "execute_result",
          "data": {
            "text/plain": [
              "array([0, 1, 2, 3, 4, 5, 6, 7, 8, 9])"
            ]
          },
          "metadata": {},
          "execution_count": 73
        }
      ]
    },
    {
      "cell_type": "markdown",
      "source": [
        "## Gready"
      ],
      "metadata": {
        "id": "G2VPej1mH7yv"
      }
    },
    {
      "cell_type": "code",
      "source": [
        "kip = 0\n",
        "subject_checked = np.zeros((number_subject,))\n",
        "subject_checked\n",
        "while(np.sum(subject_checked) < number_subject):\n",
        "  kip += 1\n",
        "  iter_room = 0\n",
        "  iter_sub = 0\n",
        "  conflict = np.empty((0,), dtype=int)\n",
        "  while(iter_sub < len(student_per_subject) and (iter_room < len(place_per_room))):\n",
        "    if (subject_checked[iter_sub] == 1) or (iter_sub in conflict):\n",
        "      iter_sub += 1;\n",
        "      continue;\n",
        "    else:\n",
        "      if(place_per_room[iter_room] >= student_per_subject[iter_sub]):\n",
        "        subject_checked[iter_sub] = 1\n",
        "        # TO-DO ADD CONFLICT\n",
        "        new_conflict = np.where(matrix_constrain[iter_sub] == 1)[0]\n",
        "        conflict = np.append(conflict, new_conflict)\n",
        "        conflict = np.unique(conflict)\n",
        "        # ADD CONFLICT\n",
        "        iter_room += 1\n",
        "        iter_sub += 1\n",
        "      else:\n",
        "        iter_sub += 1\n",
        "\n",
        "print(kip)\n"
      ],
      "metadata": {
        "colab": {
          "base_uri": "https://localhost:8080/"
        },
        "id": "DQ0XFWu4Io6o",
        "outputId": "ee951cff-2d48-474d-a21d-25f09ae31e21"
      },
      "execution_count": 77,
      "outputs": [
        {
          "output_type": "stream",
          "name": "stdout",
          "text": [
            "7\n"
          ]
        }
      ]
    },
    {
      "cell_type": "markdown",
      "source": [
        "## Solve"
      ],
      "metadata": {
        "id": "MlzCvNM_SluI"
      }
    },
    {
      "cell_type": "code",
      "source": [],
      "metadata": {
        "id": "oPfBjwb1PvdW"
      },
      "execution_count": null,
      "outputs": []
    }
  ]
}
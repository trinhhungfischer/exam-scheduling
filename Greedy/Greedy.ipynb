{
  "nbformat": 4,
  "nbformat_minor": 0,
  "metadata": {
    "colab": {
      "provenance": []
    },
    "kernelspec": {
      "name": "python3",
      "display_name": "Python 3"
    },
    "language_info": {
      "name": "python"
    }
  },
  "cells": [
    {
      "cell_type": "code",
      "execution_count": 2,
      "metadata": {
        "colab": {
          "base_uri": "https://localhost:8080/"
        },
        "id": "ncaRM2uQARh2",
        "outputId": "4f4e4e96-5a5f-4767-ab8d-0eef7b980f48"
      },
      "outputs": [
        {
          "output_type": "stream",
          "name": "stdout",
          "text": [
            "Mounted at /content/drive\n"
          ]
        }
      ],
      "source": [
        "from google.colab import drive\n",
        "drive.mount('/content/drive')"
      ]
    },
    {
      "cell_type": "code",
      "source": [
        "import os\n",
        "import numpy as np\n",
        "DIR = '/content/drive/MyDrive/ToiUuLapLich/data'"
      ],
      "metadata": {
        "id": "wetl9FEhBm-T"
      },
      "execution_count": 80,
      "outputs": []
    },
    {
      "cell_type": "code",
      "source": [
        "%cd '/content/drive/MyDrive/ToiUuLapLich/data'\n",
        "os.listdir()"
      ],
      "metadata": {
        "id": "3dwbTuvpBYmo"
      },
      "execution_count": null,
      "outputs": []
    },
    {
      "cell_type": "markdown",
      "source": [
        "## Data Preprocessing"
      ],
      "metadata": {
        "id": "QbKpFLF0HR_i"
      }
    },
    {
      "cell_type": "code",
      "source": [
        "def read_data(data_file_name):\n",
        "  with open(data_file_name, \"r\") as f:\n",
        "    r = f.readlines()\n",
        "    number_subject = int(r[0])\n",
        "    student_per_subject = [int(u) for u in r[1][:-1].split(\" \")]\n",
        "    number_room = int(r[2])\n",
        "    place_per_room = [int(u) for u in r[3][:-1].split(\" \")]\n",
        "    number_constrain = int(r[4])\n",
        "\n",
        "    student_per_subject.sort(reverse=True)\n",
        "    student_per_subject = np.asarray(student_per_subject)\n",
        "    place_per_room.sort(reverse=True)\n",
        "    place_per_room = np.asarray(place_per_room)\n",
        "\n",
        "    if(r[-1][-1] != '\\n'):\n",
        "      r[-1] += \"\\n\"\n",
        "\n",
        "    constrain = []\n",
        "    for i in range(number_constrain):\n",
        "      each_constrain = [int(u) for u in r[5+i][:-1].split(\" \")]\n",
        "      constrain.append(each_constrain)\n",
        "\n",
        "    matrix_constrain = np.zeros((number_subject, number_subject))\n",
        "    for iter in constrain:\n",
        "      i = iter[0]\n",
        "      j = iter[1]\n",
        "      matrix_constrain[i][j] = 1\n",
        "      matrix_constrain[j][i] = 1\n",
        "        \n",
        "    return number_subject, student_per_subject, number_room, place_per_room, number_constrain, constrain, matrix_constrain\n",
        "\n",
        "number_subject, student_per_subject, number_room, place_per_room, number_constrain, constrain, matrix_constrain = read_data(f'{DIR}/data_10_2_(0).txt')\n"
      ],
      "metadata": {
        "id": "Q4WkHOfDB3QN"
      },
      "execution_count": 84,
      "outputs": []
    },
    {
      "cell_type": "markdown",
      "source": [
        "### TEST"
      ],
      "metadata": {
        "id": "PiX4Yy9ZVWev"
      }
    },
    {
      "cell_type": "code",
      "source": [
        "print(student_per_subject)\n",
        "print(place_per_room)"
      ],
      "metadata": {
        "colab": {
          "base_uri": "https://localhost:8080/"
        },
        "id": "BpsKOcYJH-_0",
        "outputId": "c7f5353f-7c85-46df-fe03-b309d2aae246"
      },
      "execution_count": 86,
      "outputs": [
        {
          "output_type": "stream",
          "name": "stdout",
          "text": [
            "[38 38 38 35 34 34 29 28 27 22]\n",
            "[48 41]\n"
          ]
        }
      ]
    },
    {
      "cell_type": "code",
      "source": [
        "matrix_constrain"
      ],
      "metadata": {
        "colab": {
          "base_uri": "https://localhost:8080/"
        },
        "id": "06q_cfHlJw99",
        "outputId": "01ca51f9-35e3-4a55-8248-fe0c0ebe2d3a"
      },
      "execution_count": 87,
      "outputs": [
        {
          "output_type": "execute_result",
          "data": {
            "text/plain": [
              "array([[0., 0., 1., 1., 0., 1., 1., 1., 0., 1.],\n",
              "       [0., 0., 1., 1., 1., 1., 1., 1., 0., 0.],\n",
              "       [1., 1., 0., 1., 1., 1., 0., 1., 1., 1.],\n",
              "       [1., 1., 1., 0., 1., 1., 1., 1., 1., 1.],\n",
              "       [0., 1., 1., 1., 0., 1., 1., 1., 1., 1.],\n",
              "       [1., 1., 1., 1., 1., 0., 1., 1., 0., 1.],\n",
              "       [1., 1., 0., 1., 1., 1., 0., 1., 1., 1.],\n",
              "       [1., 1., 1., 1., 1., 1., 1., 0., 1., 1.],\n",
              "       [0., 0., 1., 1., 1., 0., 1., 1., 0., 0.],\n",
              "       [1., 0., 1., 1., 1., 1., 1., 1., 0., 0.]])"
            ]
          },
          "metadata": {},
          "execution_count": 87
        }
      ]
    },
    {
      "cell_type": "markdown",
      "source": [
        "## Gready"
      ],
      "metadata": {
        "id": "G2VPej1mH7yv"
      }
    },
    {
      "cell_type": "code",
      "source": [
        "def greedy(data_path):\n",
        "  # Read data \n",
        "  number_subject, student_per_subject, number_room, place_per_room, number_constrain, constrain, matrix_constrain = read_data(data_path)\n",
        "\n",
        "  # Solve\n",
        "  kip = 0\n",
        "  subject_checked = np.zeros((number_subject,))\n",
        "  subject_checked\n",
        "  while(np.sum(subject_checked) < number_subject):\n",
        "    kip += 1\n",
        "    iter_room = 0\n",
        "    iter_sub = 0\n",
        "    conflict = np.empty((0,), dtype=int)\n",
        "    while(iter_sub < len(student_per_subject) and (iter_room < len(place_per_room))):\n",
        "      if (subject_checked[iter_sub] == 1) or (iter_sub in conflict):\n",
        "        iter_sub += 1;\n",
        "        continue;\n",
        "      else:\n",
        "        if(place_per_room[iter_room] >= student_per_subject[iter_sub]):\n",
        "          subject_checked[iter_sub] = 1\n",
        "          # TO-DO ADD CONFLICT\n",
        "          new_conflict = np.where(matrix_constrain[iter_sub] == 1)[0]\n",
        "          conflict = np.append(conflict, new_conflict)\n",
        "          conflict = np.unique(conflict)\n",
        "          # ADD CONFLICT\n",
        "          iter_room += 1\n",
        "          iter_sub += 1\n",
        "        else:\n",
        "          iter_sub += 1\n",
        "\n",
        "  return kip\n",
        "\n",
        "\n"
      ],
      "metadata": {
        "id": "DQ0XFWu4Io6o"
      },
      "execution_count": 99,
      "outputs": []
    },
    {
      "cell_type": "markdown",
      "source": [
        "## Solve"
      ],
      "metadata": {
        "id": "MlzCvNM_SluI"
      }
    },
    {
      "cell_type": "code",
      "source": [
        "def solve(data_file_name):\n",
        "  DIR = '/content/drive/MyDrive/ToiUuLapLich/data'\n",
        "  data_path = os.path.join(DIR, data_file_name)\n",
        "  return greedy(data_path)"
      ],
      "metadata": {
        "id": "oPfBjwb1PvdW"
      },
      "execution_count": 100,
      "outputs": []
    },
    {
      "cell_type": "code",
      "source": [
        "solve(\"data_10_2_(0).txt\")"
      ],
      "metadata": {
        "colab": {
          "base_uri": "https://localhost:8080/"
        },
        "id": "yWwaMBmIWKF-",
        "outputId": "94995906-30ff-4192-d6f5-c0a0672e2a30"
      },
      "execution_count": 101,
      "outputs": [
        {
          "output_type": "execute_result",
          "data": {
            "text/plain": [
              "7"
            ]
          },
          "metadata": {},
          "execution_count": 101
        }
      ]
    }
  ]
}
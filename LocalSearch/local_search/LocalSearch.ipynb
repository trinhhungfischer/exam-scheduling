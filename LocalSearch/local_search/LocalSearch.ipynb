{
  "nbformat": 4,
  "nbformat_minor": 0,
  "metadata": {
    "colab": {
      "provenance": []
    },
    "kernelspec": {
      "name": "python3",
      "display_name": "Python 3"
    },
    "language_info": {
      "name": "python"
    }
  },
  "cells": [
    {
      "cell_type": "code",
      "execution_count": 3,
      "metadata": {
        "colab": {
          "base_uri": "https://localhost:8080/"
        },
        "id": "3VcyMhlZQqbX",
        "outputId": "155d1b8a-b921-4784-89da-0f42f8af7c61"
      },
      "outputs": [
        {
          "output_type": "stream",
          "name": "stdout",
          "text": [
            "Drive already mounted at /content/drive; to attempt to forcibly remount, call drive.mount(\"/content/drive\", force_remount=True).\n"
          ]
        }
      ],
      "source": [
        "from google.colab import drive\n",
        "drive.mount('/content/drive')"
      ]
    },
    {
      "cell_type": "code",
      "source": [
        "import os\n",
        "import numpy as np\n",
        "DIR = '/content/drive/MyDrive/ToiUuLapLich/data'\n",
        "%cd '/content/drive/MyDrive/ToiUuLapLich/data'"
      ],
      "metadata": {
        "colab": {
          "base_uri": "https://localhost:8080/"
        },
        "id": "D2fkeQVMRYHz",
        "outputId": "a2f841c0-d1e2-4014-a72c-0f8abe3ce33d"
      },
      "execution_count": 2,
      "outputs": [
        {
          "output_type": "stream",
          "name": "stdout",
          "text": [
            "/content/drive/MyDrive/ToiUuLapLich/data\n"
          ]
        }
      ]
    },
    {
      "cell_type": "markdown",
      "source": [
        "## Data Preprocessing"
      ],
      "metadata": {
        "id": "SKN0s5v4RJjo"
      }
    },
    {
      "cell_type": "code",
      "source": [
        "def read_data(data_file_name):\n",
        "  with open(data_file_name, \"r\") as f:\n",
        "    r = f.readlines()\n",
        "    number_subject = int(r[0])\n",
        "    student_per_subject = [int(u) for u in r[1][:-1].split(\" \")]\n",
        "    number_room = int(r[2])\n",
        "    place_per_room = [int(u) for u in r[3][:-1].split(\" \")]\n",
        "    number_constrain = int(r[4])\n",
        "\n",
        "    student_per_subject.sort(reverse=True)\n",
        "    student_per_subject = np.asarray(student_per_subject)\n",
        "    place_per_room.sort(reverse=True)\n",
        "    place_per_room = np.asarray(place_per_room)\n",
        "\n",
        "    if(r[-1][-1] != '\\n'):\n",
        "      r[-1] += \"\\n\"\n",
        "\n",
        "    constrain = []\n",
        "    for i in range(number_constrain):\n",
        "      each_constrain = [int(u) for u in r[5+i][:-1].split(\" \")]\n",
        "      constrain.append(each_constrain)\n",
        "\n",
        "    matrix_constrain = np.zeros((number_subject, number_subject))\n",
        "    for iter in constrain:\n",
        "      i = iter[0]\n",
        "      j = iter[1]\n",
        "      matrix_constrain[i][j] = 1\n",
        "      matrix_constrain[j][i] = 1\n",
        "        \n",
        "    return number_subject, student_per_subject, number_room, place_per_room, number_constrain, constrain, matrix_constrain\n",
        "\n",
        "# TEST\n",
        "number_subject, student_per_subject, number_room, place_per_room, number_constrain, constrain, matrix_constrain = read_data(f'{DIR}/data_10_2_(0).txt')\n"
      ],
      "metadata": {
        "id": "vw907dUARLuI"
      },
      "execution_count": 6,
      "outputs": []
    },
    {
      "cell_type": "markdown",
      "source": [
        "# Greedy"
      ],
      "metadata": {
        "id": "nVP3012-E0jU"
      }
    },
    {
      "cell_type": "code",
      "source": [
        "def greedy(data_path):\n",
        "  # Read data \n",
        "  number_subject, student_per_subject, number_room, place_per_room, number_constrain, constrain, matrix_constrain = read_data(data_path)\n",
        "\n",
        "  # Solve\n",
        "  solve = []\n",
        "  kip = 0\n",
        "  subject_checked = np.zeros((number_subject,))\n",
        "\n",
        "  while(np.sum(subject_checked) < number_subject):\n",
        "    kip += 1\n",
        "    this_kip = []\n",
        "    iter_room = 0\n",
        "    iter_sub = 0\n",
        "    conflict = np.empty((0,), dtype=int)\n",
        "    while(iter_sub < len(student_per_subject) and (iter_room < len(place_per_room))):\n",
        "      if (subject_checked[iter_sub] == 1) or (iter_sub in conflict):  # already checked\n",
        "        iter_sub += 1;\n",
        "        continue;\n",
        "      else: # unchecked\n",
        "        if(place_per_room[iter_room] >= student_per_subject[iter_sub]): # fit the room -> checked\n",
        "          subject_checked[iter_sub] = 1\n",
        "          # TO-DO ADD CONFLICT\n",
        "          new_conflict = np.where(matrix_constrain[iter_sub] == 1)[0]\n",
        "          conflict = np.append(conflict, new_conflict)\n",
        "          conflict = np.unique(conflict)\n",
        "          # ADD CONFLICT\n",
        "          this_kip.append([iter_sub, iter_room])\n",
        "          iter_room += 1\n",
        "          iter_sub += 1\n",
        "          \n",
        "        else:\n",
        "          iter_sub += 1\n",
        "    solve.append(this_kip)\n",
        "\n",
        "  return kip, solve\n"
      ],
      "metadata": {
        "id": "K50TpHerE1-p"
      },
      "execution_count": 8,
      "outputs": []
    },
    {
      "cell_type": "code",
      "source": [
        "def check_order(data_path, order):\n",
        "  number_subject, student_per_subject, number_room, place_per_room, number_constrain, constrain, matrix_constrain = read_data(data_path)\n",
        "  iter_order = 0\n",
        "  result = []\n",
        "  while(iter_order < len(order)):\n",
        "    this_kip = []\n",
        "    iter_room = 0\n",
        "    conflict = np.empty((0,), dtype=int)\n",
        "\n",
        "    while((iter_room < number_room) and (iter_order < number_subject)):\n",
        "      if((place_per_room[iter_room] < student_per_subject[order[iter_order]]) or (order[iter_order] in conflict)):\n",
        "        break\n",
        "      else:\n",
        "        # TO-DO ADD CONFLICT\n",
        "        new_conflict = np.where(matrix_constrain[order[iter_order]] == 1)[0]\n",
        "        conflict = np.append(conflict, new_conflict)\n",
        "        conflict = np.unique(conflict)\n",
        "        # ADD CONFLICT\n",
        "        this_kip.append([order[iter_order], iter_room])\n",
        "        iter_room += 1\n",
        "        iter_order += 1\n",
        "    result.append(this_kip)\n",
        "\n",
        "  return len(result), result\n"
      ],
      "metadata": {
        "id": "DaMuCUL3EAz_"
      },
      "execution_count": 39,
      "outputs": []
    },
    {
      "cell_type": "code",
      "source": [
        "def check_order_read(number_subject, student_per_subject, number_room, place_per_room, number_constrain, constrain, matrix_constrain, order):\n",
        "  iter_order = 0\n",
        "  result = []\n",
        "  while(iter_order < len(order)):\n",
        "    this_kip = []\n",
        "    iter_room = 0\n",
        "    conflict = np.empty((0,), dtype=int)\n",
        "\n",
        "    while((iter_room < number_room) and (iter_order < number_subject)):\n",
        "      if((place_per_room[iter_room] < student_per_subject[order[iter_order]]) or (order[iter_order] in conflict)):\n",
        "        break\n",
        "      else:\n",
        "        # TO-DO ADD CONFLICT\n",
        "        new_conflict = np.where(matrix_constrain[order[iter_order]] == 1)[0]\n",
        "        conflict = np.append(conflict, new_conflict)\n",
        "        conflict = np.unique(conflict)\n",
        "        # ADD CONFLICT\n",
        "        this_kip.append([order[iter_order], iter_room])\n",
        "        iter_room += 1\n",
        "        iter_order += 1\n",
        "    result.append(this_kip)\n",
        "\n",
        "  return len(result), result\n"
      ],
      "metadata": {
        "id": "xCsaQsTCKZBC"
      },
      "execution_count": 49,
      "outputs": []
    },
    {
      "cell_type": "markdown",
      "source": [
        "# Solve\n"
      ],
      "metadata": {
        "id": "X3cpwK8kEJW0"
      }
    },
    {
      "cell_type": "code",
      "source": [
        "def solve_prob(data_file_name):\n",
        "  DIR = '/content/drive/MyDrive/ToiUuLapLich/data'\n",
        "  data_path = os.path.join(DIR, data_file_name)\n",
        "  return greedy(data_path)"
      ],
      "metadata": {
        "id": "oPfBjwb1PvdW"
      },
      "execution_count": 24,
      "outputs": []
    },
    {
      "cell_type": "code",
      "source": [
        "kip, solution = solve_prob(\"data_10_2_(1).txt\")"
      ],
      "metadata": {
        "id": "yWwaMBmIWKF-"
      },
      "execution_count": 25,
      "outputs": []
    },
    {
      "cell_type": "code",
      "source": [
        "print(kip)\n",
        "assert (kip == len(solution))\n",
        "print(solution)"
      ],
      "metadata": {
        "colab": {
          "base_uri": "https://localhost:8080/"
        },
        "id": "M9b6etohgoka",
        "outputId": "66e6631a-cb9d-44c3-e9c6-1e4a45f7949d"
      },
      "execution_count": 12,
      "outputs": [
        {
          "output_type": "stream",
          "name": "stdout",
          "text": [
            "6\n",
            "[[[0, 0], [5, 1]], [[1, 0], [6, 1]], [[2, 0], [7, 1]], [[3, 0], [8, 1]], [[4, 0]], [[9, 0]]]\n"
          ]
        }
      ]
    },
    {
      "cell_type": "code",
      "source": [
        "order = [0,5,1,6,2,7,3,8,4,9]\n",
        "kip, solve = check_order(\"data_10_2_(1).txt\", order)\n",
        "print(kip)\n",
        "print(solve)"
      ],
      "metadata": {
        "colab": {
          "base_uri": "https://localhost:8080/"
        },
        "id": "V9JRVPz4ELEK",
        "outputId": "e1051b77-c623-4e30-d3bc-e67122d11e34"
      },
      "execution_count": 41,
      "outputs": [
        {
          "output_type": "stream",
          "name": "stdout",
          "text": [
            "6\n",
            "[[[0, 0], [5, 1]], [[1, 0], [6, 1]], [[2, 0], [7, 1]], [[3, 0], [8, 1]], [[4, 0]], [[9, 0]]]\n"
          ]
        }
      ]
    },
    {
      "cell_type": "markdown",
      "source": [
        "# Local Search"
      ],
      "metadata": {
        "id": "Ppl59OKcEMDX"
      }
    },
    {
      "cell_type": "code",
      "source": [
        "def get_order(solve):\n",
        "  order = []\n",
        "  for kip in solve:\n",
        "    for i in kip:\n",
        "      order.append(i[0])\n",
        "  return order"
      ],
      "metadata": {
        "id": "PhJ2cdtUF1cr"
      },
      "execution_count": 29,
      "outputs": []
    },
    {
      "cell_type": "code",
      "source": [
        "# init greedy solution\n",
        "data_file = \"data_10_2_(1).txt\"\n",
        "kip, solve = solve_prob(data_file)\n",
        "order = get_order(solve)\n",
        "order"
      ],
      "metadata": {
        "colab": {
          "base_uri": "https://localhost:8080/"
        },
        "id": "g2SyoIUqI_Bq",
        "outputId": "90c06a1e-576e-45e6-c0a1-f7ead34d9ac1"
      },
      "execution_count": 35,
      "outputs": [
        {
          "output_type": "execute_result",
          "data": {
            "text/plain": [
              "[0, 5, 1, 6, 2, 7, 3, 8, 4, 9]"
            ]
          },
          "metadata": {},
          "execution_count": 35
        }
      ]
    },
    {
      "cell_type": "code",
      "source": [
        "def swap(order, r1, r2):\n",
        "  temp = order[r1]\n",
        "  order[r1] = order[r2]\n",
        "  order[r2] = temp\n",
        "  return "
      ],
      "metadata": {
        "id": "yhqIWojYJAIC"
      },
      "execution_count": 44,
      "outputs": []
    },
    {
      "cell_type": "code",
      "source": [
        "print(order)\n",
        "swap(order, 0, 1)\n",
        "print(order)"
      ],
      "metadata": {
        "colab": {
          "base_uri": "https://localhost:8080/"
        },
        "id": "SiOuLVQ3KlAs",
        "outputId": "057a8af5-1ade-4e61-fd4f-f275ef2f9f4c"
      },
      "execution_count": 45,
      "outputs": [
        {
          "output_type": "stream",
          "name": "stdout",
          "text": [
            "[5, 0, 1, 6, 2, 7, 3, 8, 4, 9]\n",
            "[0, 5, 1, 6, 2, 7, 3, 8, 4, 9]\n"
          ]
        }
      ]
    },
    {
      "cell_type": "markdown",
      "source": [
        "## Naive "
      ],
      "metadata": {
        "id": "-eZR713OEQ0S"
      }
    },
    {
      "cell_type": "code",
      "source": [
        "import random\n",
        "\n",
        "def naive_local_search(data_file, number_loop):\n",
        "  number_subject, student_per_subject, number_room, place_per_room, number_constrain, constrain, matrix_constrain = read_data(data_file)\n",
        "\n",
        "  # init greedy solution\n",
        "  len_kip, solve = solve_prob(data_file)\n",
        "\n",
        "  order = get_order(solve)\n",
        "  result_len = len_kip\n",
        "\n",
        "  # loop local search\n",
        "  for i in range(number_loop):\n",
        "    r1 = random.randint(0, number_subject-1)\n",
        "    r2 = random.randint(0, number_subject-1)\n",
        "    if (r1 == r2): \n",
        "      continue\n",
        "    else:\n",
        "      swap(order, r1, r2)\n",
        "      len_this_sol, this_sol = check_order_read(number_subject, student_per_subject, number_room, place_per_room, number_constrain, constrain, matrix_constrain, order)\n",
        "      if(len_this_sol < result_len):\n",
        "        result_len = len_this_sol\n",
        "      else:\n",
        "        swap(order, r1, r2)\n",
        "\n",
        "  return result_len, order\n"
      ],
      "metadata": {
        "id": "USb_O1xnGyET"
      },
      "execution_count": 47,
      "outputs": []
    },
    {
      "cell_type": "code",
      "source": [
        "data_file = \"data_10_2_(1).txt\"\n",
        "result_len, order = naive_local_search(data_file, number_loop = 500)\n",
        "print(result_len)\n",
        "print(order)"
      ],
      "metadata": {
        "colab": {
          "base_uri": "https://localhost:8080/"
        },
        "id": "dxYC5kL8LnY1",
        "outputId": "17b2e12f-899e-4630-baf9-dcb7eb91ef2d"
      },
      "execution_count": 52,
      "outputs": [
        {
          "output_type": "stream",
          "name": "stdout",
          "text": [
            "5\n",
            "[0, 5, 4, 6, 2, 7, 3, 8, 1, 9]\n"
          ]
        }
      ]
    },
    {
      "cell_type": "code",
      "source": [
        "len, solve = check_order(data_file, order)\n",
        "print(len)\n",
        "print(solve)"
      ],
      "metadata": {
        "colab": {
          "base_uri": "https://localhost:8080/"
        },
        "id": "K2SCDBkDMP4R",
        "outputId": "760adb79-9658-4f25-aaf5-e6fdb0153e3e"
      },
      "execution_count": 53,
      "outputs": [
        {
          "output_type": "stream",
          "name": "stdout",
          "text": [
            "5\n",
            "[[[0, 0], [5, 1]], [[4, 0], [6, 1]], [[2, 0], [7, 1]], [[3, 0], [8, 1]], [[1, 0], [9, 1]]]\n"
          ]
        }
      ]
    }
  ]
}
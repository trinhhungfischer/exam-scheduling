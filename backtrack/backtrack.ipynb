{
 "cells": [
  {
   "cell_type": "code",
   "execution_count": null,
   "metadata": {},
   "outputs": [],
   "source": [
    "def schedule_exams(exams, num_days, num_sections, num_rooms, room_capacity, exam_conflicts):\n",
    "    schedule = [[[] for j in range(num_sections)] for i in range(num_days)]\n",
    "    def backtrack(exam_index):\n",
    "        if exam_index == len(exams):\n",
    "            return True\n",
    "        for day in range(num_days):\n",
    "            for section in range(num_sections):\n",
    "                can_schedule = True\n",
    "                for scheduled_exam in schedule[day][section]:\n",
    "                    if (exams[exam_index][0], scheduled_exam[0]) in exam_conflicts:\n",
    "                        can_schedule = False\n",
    "                        break\n",
    "                if can_schedule and sum(exam[1] for exam in schedule[day][section]) + exams[exam_index][1] <= room_capacity:\n",
    "                    schedule[day][section].append(exams[exam_index])\n",
    "                    if backtrack(exam_index + 1):\n",
    "                        return True\n",
    "                    schedule[day][section].pop()\n",
    "        return False\n",
    "    if backtrack(0):\n",
    "        return schedule\n",
    "    return None"
   ]
  }
 ],
 "metadata": {
  "language_info": {
   "name": "python"
  },
  "orig_nbformat": 4
 },
 "nbformat": 4,
 "nbformat_minor": 2
}
